{
 "cells": [
  {
   "cell_type": "markdown",
   "id": "b07421f6",
   "metadata": {},
   "source": [
    "# Analysis for salmon trap data in the Dungenesss River from 2006\n",
    "### Description of data:\n",
    "Data is stored in MS Excel files with one sheet per year. For 2006, the counts for wild and hatchery fish are separate.\n",
    "\n"
   ]
  },
  {
   "cell_type": "code",
   "execution_count": 1,
   "id": "3ebf42c3",
   "metadata": {},
   "outputs": [],
   "source": [
    "#imports\n",
    "\n",
    "import numpy as np\n",
    "import pandas as pd\n",
    "import matplotlib.pyplot as plt\n",
    "from urllib.request import urlopen\n",
    "from bs4 import BeautifulSoup\n",
    "import io"
   ]
  },
  {
   "cell_type": "code",
   "execution_count": 32,
   "id": "0659dd21",
   "metadata": {},
   "outputs": [
    {
     "name": "stdout",
     "output_type": "stream",
     "text": [
      "[('Dates and fishing times', 'Down'), ('Dates and fishing times', 'Up'), ('Dates and fishing times', 'TimeIn'), ('Chinook0', 'Total'), ('Chinook0', 'HatCWT'), ('Chinook0', 'Unmk Wld'), ('Chinook1', 'Total'), ('Chinook1', 'HatCWT'), ('Chinook1', 'Unmk '), ('Coho1', 'Total'), ('Coho1', 'Wild UC'), ('Coho1', 'Wldunmk'), ('Coho1', 'Hat-AD'), ('Coho0', 'Total'), ('Chum', 'Total'), ('Pink', 'Total'), ('Steelhead1', 'Total'), ('Steelhead1', 'WldUC'), ('Steelhead1', 'Wldunmk'), ('Steelhead1', 'Hat-AD'), ('Steely', 'Adult'), ('Cutthroat', 'Smolts'), ('Dolly varden', 'Smolt'), ('Dolly varden', 'Adult'), ('Trout Parr', 'Total'), ('Trout Parr', 'Steely'), ('Trout Parr', 'Cutts')]\n",
      "Index(['Dates and fishing times_Down', 'Dates and fishing times_Up',\n",
      "       'Dates and fishing times_TimeIn', 'Chinook0_Total', 'Chinook0_HatCWT',\n",
      "       'Chinook0_Unmk Wld', 'Chinook1_Total', 'Chinook1_HatCWT',\n",
      "       'Chinook1_Unmk ', 'Coho1_Total', 'Coho1_Wild UC', 'Coho1_Wldunmk',\n",
      "       'Coho1_Hat-AD', 'Coho0_Total', 'Chum_Total', 'Pink_Total',\n",
      "       'Steelhead1_Total', 'Steelhead1_WldUC', 'Steelhead1_Wldunmk',\n",
      "       'Steelhead1_Hat-AD', 'Steely_Adult', 'Cutthroat_Smolts',\n",
      "       'Dolly varden_Smolt', 'Dolly varden_Adult', 'Trout Parr_Total',\n",
      "       'Trout Parr_Steely', 'Trout Parr_Cutts'],\n",
      "      dtype='object')\n"
     ]
    }
   ],
   "source": [
    "# #read file in Windows\n",
    "try:\n",
    "    df_2006 = pd.read_excel(\n",
    "   io=\"C:/Users/maria/OneDrive/Documents/data/pied_piper/Dungeness smolt trap 2005 - 2014.xlsx\",\n",
    "   sheet_name ='2006',\n",
    "    header = [1,2]\n",
    ")\n",
    "except PermissionError:\n",
    "    print(\"Permission Error. Close the file, if it is open.\")\n",
    "    \n",
    "\n",
    "df_2006.head()\n",
    "columns = list(df_2006)\n",
    "print(columns)\n",
    "\n",
    "df_2006.columns  = ['_'.join(col) for col in df_2006.columns.values]\n",
    "print(df_2006.columns)\n",
    "df_2006 = df_2006.rename(columns={\"Dates and fishing times_Down\": \"Down\",\n",
    "                        \"Dates and fishing times_Up\": \"Up\",\n",
    "                        \"Dates and fishing times_TimeIn\": \"In\"})\n",
    "df_2006 = df_2006.iloc[:-3]\n",
    "with pd.option_context('display.max_rows', None, 'display.max_columns', None):  # more options can be specified also\n",
    "    display(df_2006)"
   ]
  },
  {
   "cell_type": "code",
   "execution_count": 38,
   "id": "2ff20541",
   "metadata": {},
   "outputs": [
    {
     "name": "stdout",
     "output_type": "stream",
     "text": [
      "Index(['Down', 'Up', 'In', 'Chinook0_Total', 'Chinook0_HatCWT',\n",
      "       'Chinook0_Unmk Wld', 'Chinook1_Total', 'Chinook1_HatCWT',\n",
      "       'Chinook1_Unmk ', 'Coho1_Total', 'Coho1_Wild UC', 'Coho1_Wldunmk',\n",
      "       'Coho1_Hat-AD', 'Coho0_Total', 'Chum_Total', 'Pink_Total',\n",
      "       'Steelhead1_Total', 'Steelhead1_WldUC', 'Steelhead1_Wldunmk',\n",
      "       'Steelhead1_Hat-AD', 'Steely_Adult', 'Cutthroat_Smolts',\n",
      "       'Dolly varden_Smolt', 'Dolly varden_Adult', 'Trout Parr_Total',\n",
      "       'Trout Parr_Steely', 'Trout Parr_Cutts', 'Date', 'midpoint'],\n",
      "      dtype='object')\n"
     ]
    }
   ],
   "source": [
    "#making new columns\n",
    "df_2006[\"Down\"] = pd.to_datetime(df_2006[\"Down\"])\n",
    "df_2006[\"Up\"] = pd.to_datetime(df_2006[\"Up\"])\n",
    "df_2006['Date'] = df_2006['Down'].dt.date\n",
    "df_2006['midpoint'] = df_2006['Down'] + (df_2006['Up'] - df_2006['Down'])/2\n",
    "print(df_2006.columns)"
   ]
  },
  {
   "cell_type": "code",
   "execution_count": null,
   "id": "10c27fbf",
   "metadata": {},
   "outputs": [],
   "source": []
  }
 ],
 "metadata": {
  "kernelspec": {
   "display_name": "Python 3 (ipykernel)",
   "language": "python",
   "name": "python3"
  },
  "language_info": {
   "codemirror_mode": {
    "name": "ipython",
    "version": 3
   },
   "file_extension": ".py",
   "mimetype": "text/x-python",
   "name": "python",
   "nbconvert_exporter": "python",
   "pygments_lexer": "ipython3",
   "version": "3.9.7"
  }
 },
 "nbformat": 4,
 "nbformat_minor": 5
}
