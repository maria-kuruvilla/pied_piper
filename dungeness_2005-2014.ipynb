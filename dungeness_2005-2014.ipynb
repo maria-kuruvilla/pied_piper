{
 "cells": [
  {
   "cell_type": "markdown",
   "id": "05d74363",
   "metadata": {},
   "source": [
    "# Analysis for salmon trap data in the Dungenesss River from 2005-2014\n",
    "### Description of data:\n",
    "Data is stored in MS Excel files with one sheet per year. For 2005, the counts for both wild and hatchery are together with an additional column for wild fish. For all other years, counts for wild and hatchery fish are separate.\n",
    "\n"
   ]
  },
  {
   "cell_type": "code",
   "execution_count": 26,
   "id": "b3c660dd",
   "metadata": {},
   "outputs": [],
   "source": [
    "#imports\n",
    "\n",
    "import numpy as np\n",
    "import pandas as pd\n",
    "import matplotlib.pyplot as plt"
   ]
  },
  {
   "cell_type": "code",
   "execution_count": 12,
   "id": "5d3fc818",
   "metadata": {},
   "outputs": [
    {
     "data": {
      "text/html": [
       "<div>\n",
       "<style scoped>\n",
       "    .dataframe tbody tr th:only-of-type {\n",
       "        vertical-align: middle;\n",
       "    }\n",
       "\n",
       "    .dataframe tbody tr th {\n",
       "        vertical-align: top;\n",
       "    }\n",
       "\n",
       "    .dataframe thead tr th {\n",
       "        text-align: left;\n",
       "    }\n",
       "</style>\n",
       "<table border=\"1\" class=\"dataframe\">\n",
       "  <thead>\n",
       "    <tr>\n",
       "      <th></th>\n",
       "      <th>Unnamed: 0_level_0</th>\n",
       "      <th>Unnamed: 1_level_0</th>\n",
       "      <th>Unnamed: 2_level_0</th>\n",
       "      <th>Unnamed: 3_level_0</th>\n",
       "      <th>Chinook 0+</th>\n",
       "      <th>Chinook 1+</th>\n",
       "      <th>Chum</th>\n",
       "      <th>Coho 0+</th>\n",
       "      <th>Coho 1+</th>\n",
       "      <th>Pink</th>\n",
       "      <th>...</th>\n",
       "      <th>Coho 1+ Hatchery ad-mark</th>\n",
       "      <th>Coho 1+ hatchery CWT not ad-marked</th>\n",
       "      <th>Cutthroat parr unmark wild</th>\n",
       "      <th>Cutthroat adult unmark wild</th>\n",
       "      <th>Steelhead parr unmark wild</th>\n",
       "      <th>Steelhead smolt UC mark wild</th>\n",
       "      <th>Steelhead hatchery ad-mark</th>\n",
       "      <th>Steelhead adult unmark wild</th>\n",
       "      <th>Dolly Varden / Bull trout parr unmark wild</th>\n",
       "      <th>Dolly Varden / Bull trout smolt unmark wild</th>\n",
       "    </tr>\n",
       "    <tr>\n",
       "      <th></th>\n",
       "      <th>Down</th>\n",
       "      <th>Up</th>\n",
       "      <th>In</th>\n",
       "      <th>Out</th>\n",
       "      <th>10</th>\n",
       "      <th>11</th>\n",
       "      <th>20</th>\n",
       "      <th>40</th>\n",
       "      <th>41</th>\n",
       "      <th>30</th>\n",
       "      <th>...</th>\n",
       "      <th>41\\13</th>\n",
       "      <th>41\\30</th>\n",
       "      <th>60\\0</th>\n",
       "      <th>62\\0</th>\n",
       "      <th>70\\0</th>\n",
       "      <th>71\\08</th>\n",
       "      <th>71\\13</th>\n",
       "      <th>73\\0</th>\n",
       "      <th>90\\0</th>\n",
       "      <th>91\\0</th>\n",
       "    </tr>\n",
       "  </thead>\n",
       "  <tbody>\n",
       "    <tr>\n",
       "      <th>0</th>\n",
       "      <td>2005-03-08 16:30:00</td>\n",
       "      <td>2005-03-09 12:14:00</td>\n",
       "      <td>19.733333</td>\n",
       "      <td>0.000000</td>\n",
       "      <td>86.0</td>\n",
       "      <td>0.0</td>\n",
       "      <td>268.0</td>\n",
       "      <td>0.0</td>\n",
       "      <td>0.0</td>\n",
       "      <td>106.0</td>\n",
       "      <td>...</td>\n",
       "      <td>NaN</td>\n",
       "      <td>NaN</td>\n",
       "      <td>NaN</td>\n",
       "      <td>NaN</td>\n",
       "      <td>1.0</td>\n",
       "      <td>NaN</td>\n",
       "      <td>NaN</td>\n",
       "      <td>NaN</td>\n",
       "      <td>NaN</td>\n",
       "      <td>NaN</td>\n",
       "    </tr>\n",
       "    <tr>\n",
       "      <th>1</th>\n",
       "      <td>2005-03-09 12:14:00</td>\n",
       "      <td>2005-03-09 13:06:00</td>\n",
       "      <td>0.000000</td>\n",
       "      <td>0.866667</td>\n",
       "      <td>NaN</td>\n",
       "      <td>NaN</td>\n",
       "      <td>NaN</td>\n",
       "      <td>NaN</td>\n",
       "      <td>NaN</td>\n",
       "      <td>NaN</td>\n",
       "      <td>...</td>\n",
       "      <td>NaN</td>\n",
       "      <td>NaN</td>\n",
       "      <td>NaN</td>\n",
       "      <td>NaN</td>\n",
       "      <td>NaN</td>\n",
       "      <td>NaN</td>\n",
       "      <td>NaN</td>\n",
       "      <td>NaN</td>\n",
       "      <td>NaN</td>\n",
       "      <td>NaN</td>\n",
       "    </tr>\n",
       "    <tr>\n",
       "      <th>2</th>\n",
       "      <td>2005-03-09 13:06:00</td>\n",
       "      <td>2005-03-09 18:20:00</td>\n",
       "      <td>5.233333</td>\n",
       "      <td>0.000000</td>\n",
       "      <td>1.0</td>\n",
       "      <td>0.0</td>\n",
       "      <td>30.0</td>\n",
       "      <td>0.0</td>\n",
       "      <td>0.0</td>\n",
       "      <td>2.0</td>\n",
       "      <td>...</td>\n",
       "      <td>NaN</td>\n",
       "      <td>NaN</td>\n",
       "      <td>NaN</td>\n",
       "      <td>NaN</td>\n",
       "      <td>NaN</td>\n",
       "      <td>NaN</td>\n",
       "      <td>NaN</td>\n",
       "      <td>NaN</td>\n",
       "      <td>NaN</td>\n",
       "      <td>NaN</td>\n",
       "    </tr>\n",
       "    <tr>\n",
       "      <th>3</th>\n",
       "      <td>2005-03-09 18:20:00</td>\n",
       "      <td>2005-03-09 20:13:00</td>\n",
       "      <td>1.883333</td>\n",
       "      <td>0.000000</td>\n",
       "      <td>7.0</td>\n",
       "      <td>0.0</td>\n",
       "      <td>165.0</td>\n",
       "      <td>0.0</td>\n",
       "      <td>0.0</td>\n",
       "      <td>33.0</td>\n",
       "      <td>...</td>\n",
       "      <td>NaN</td>\n",
       "      <td>NaN</td>\n",
       "      <td>NaN</td>\n",
       "      <td>NaN</td>\n",
       "      <td>NaN</td>\n",
       "      <td>NaN</td>\n",
       "      <td>NaN</td>\n",
       "      <td>NaN</td>\n",
       "      <td>NaN</td>\n",
       "      <td>NaN</td>\n",
       "    </tr>\n",
       "    <tr>\n",
       "      <th>4</th>\n",
       "      <td>2005-03-09 20:13:00</td>\n",
       "      <td>2005-03-10 08:41:00</td>\n",
       "      <td>12.466667</td>\n",
       "      <td>0.000000</td>\n",
       "      <td>53.0</td>\n",
       "      <td>0.0</td>\n",
       "      <td>599.0</td>\n",
       "      <td>0.0</td>\n",
       "      <td>0.0</td>\n",
       "      <td>56.0</td>\n",
       "      <td>...</td>\n",
       "      <td>NaN</td>\n",
       "      <td>NaN</td>\n",
       "      <td>NaN</td>\n",
       "      <td>NaN</td>\n",
       "      <td>NaN</td>\n",
       "      <td>NaN</td>\n",
       "      <td>NaN</td>\n",
       "      <td>NaN</td>\n",
       "      <td>NaN</td>\n",
       "      <td>NaN</td>\n",
       "    </tr>\n",
       "  </tbody>\n",
       "</table>\n",
       "<p>5 rows × 27 columns</p>\n",
       "</div>"
      ],
      "text/plain": [
       "   Unnamed: 0_level_0  Unnamed: 1_level_0 Unnamed: 2_level_0  \\\n",
       "                 Down                  Up                 In   \n",
       "0 2005-03-08 16:30:00 2005-03-09 12:14:00          19.733333   \n",
       "1 2005-03-09 12:14:00 2005-03-09 13:06:00           0.000000   \n",
       "2 2005-03-09 13:06:00 2005-03-09 18:20:00           5.233333   \n",
       "3 2005-03-09 18:20:00 2005-03-09 20:13:00           1.883333   \n",
       "4 2005-03-09 20:13:00 2005-03-10 08:41:00          12.466667   \n",
       "\n",
       "  Unnamed: 3_level_0 Chinook 0+ Chinook 1+   Chum Coho 0+ Coho 1+    Pink  \\\n",
       "                 Out         10         11     20      40       41     30   \n",
       "0           0.000000       86.0        0.0  268.0     0.0      0.0  106.0   \n",
       "1           0.866667        NaN        NaN    NaN     NaN      NaN    NaN   \n",
       "2           0.000000        1.0        0.0   30.0     0.0      0.0    2.0   \n",
       "3           0.000000        7.0        0.0  165.0     0.0      0.0   33.0   \n",
       "4           0.000000       53.0        0.0  599.0     0.0      0.0   56.0   \n",
       "\n",
       "   ... Coho 1+ Hatchery ad-mark Coho 1+ hatchery CWT not ad-marked  \\\n",
       "   ...                    41\\13                              41\\30   \n",
       "0  ...                      NaN                                NaN   \n",
       "1  ...                      NaN                                NaN   \n",
       "2  ...                      NaN                                NaN   \n",
       "3  ...                      NaN                                NaN   \n",
       "4  ...                      NaN                                NaN   \n",
       "\n",
       "  Cutthroat parr unmark wild Cutthroat adult unmark wild  \\\n",
       "                        60\\0                        62\\0   \n",
       "0                        NaN                         NaN   \n",
       "1                        NaN                         NaN   \n",
       "2                        NaN                         NaN   \n",
       "3                        NaN                         NaN   \n",
       "4                        NaN                         NaN   \n",
       "\n",
       "  Steelhead parr unmark wild Steelhead smolt UC mark wild  \\\n",
       "                        70\\0                        71\\08   \n",
       "0                        1.0                          NaN   \n",
       "1                        NaN                          NaN   \n",
       "2                        NaN                          NaN   \n",
       "3                        NaN                          NaN   \n",
       "4                        NaN                          NaN   \n",
       "\n",
       "  Steelhead hatchery ad-mark Steelhead adult unmark wild  \\\n",
       "                       71\\13                        73\\0   \n",
       "0                        NaN                         NaN   \n",
       "1                        NaN                         NaN   \n",
       "2                        NaN                         NaN   \n",
       "3                        NaN                         NaN   \n",
       "4                        NaN                         NaN   \n",
       "\n",
       "  Dolly Varden / Bull trout parr unmark wild  \\\n",
       "                                        90\\0   \n",
       "0                                        NaN   \n",
       "1                                        NaN   \n",
       "2                                        NaN   \n",
       "3                                        NaN   \n",
       "4                                        NaN   \n",
       "\n",
       "  Dolly Varden / Bull trout smolt unmark wild  \n",
       "                                         91\\0  \n",
       "0                                         NaN  \n",
       "1                                         NaN  \n",
       "2                                         NaN  \n",
       "3                                         NaN  \n",
       "4                                         NaN  \n",
       "\n",
       "[5 rows x 27 columns]"
      ]
     },
     "execution_count": 12,
     "metadata": {},
     "output_type": "execute_result"
    }
   ],
   "source": [
    "#read file\n",
    "df = pd.read_excel(\n",
    "   io=\"C:/Users/maria/OneDrive/Documents/data/pied_piper/Dungeness smolt trap 2005 - 2014.xlsx\",\n",
    "   sheet_name ='2005',\n",
    "    header = [3,4]\n",
    ")\n",
    "df.head()\n",
    "#columns = list(df)"
   ]
  },
  {
   "cell_type": "code",
   "execution_count": 84,
   "id": "8782eb87",
   "metadata": {},
   "outputs": [],
   "source": [
    "df.rename(columns = {\n",
    "    'Unnamed: 0_level_0':'Down',\n",
    "    'Unnamed: 1_level_0':'Up',\n",
    "    'Unnamed: 2_level_0':'In',\n",
    "    'Unnamed: 3_level_0':'Out',\n",
    "    'Coho 1+ ':'Coho 1+'\n",
    "}, inplace = True)\n",
    "df['Coho 1+ Wild']=np.nansum([df['Coho 1+ UC mark Wild'],df['Coho 1+ LC mark Wild']],axis = 0)\n",
    "df['Coho 1+ Hatchery']=np.nansum([df['Coho 1+ Hatchery ad-mark'],df['Coho 1+ hatchery CWT not ad-marked']],axis = 0)\n"
   ]
  },
  {
   "cell_type": "code",
   "execution_count": 29,
   "id": "50f63ef9",
   "metadata": {},
   "outputs": [
    {
     "data": {
      "image/png": "[encoded data removed]",
      "text/plain": [
       "<Figure size 432x288 with 1 Axes>"
      ]
     },
     "metadata": {
      "needs_background": "light"
     },
     "output_type": "display_data"
    }
   ],
   "source": [
    "plt.plot(df['Down'], df['Chinook 0+'])\n",
    "plt.gcf().autofmt_xdate()\n",
    "plt.show()"
   ]
  },
  {
   "cell_type": "code",
   "execution_count": 64,
   "id": "e0dd7f18",
   "metadata": {},
   "outputs": [
    {
     "data": {
      "image/png": "[encoded data removed]",
      "text/plain": [
       "<Figure size 432x288 with 1 Axes>"
      ]
     },
     "metadata": {
      "needs_background": "light"
     },
     "output_type": "display_data"
    }
   ],
   "source": [
    "plt.plot(df['Down'], df['Chinook 1+'], linewidth = 3, label = 'total', color = 'black')\n",
    "plt.plot(df['Down'], df['Chinook 1+ CWT hatchery'], linewidth = 3, label  = 'hatchery', color = 'lightseagreen')\n",
    "plt.legend()\n",
    "plt.gcf().autofmt_xdate()\n",
    "plt.show()"
   ]
  },
  {
   "cell_type": "code",
   "execution_count": 31,
   "id": "12bd2080",
   "metadata": {},
   "outputs": [
    {
     "data": {
      "image/png": "[encoded data removed]",
      "text/plain": [
       "<Figure size 432x288 with 1 Axes>"
      ]
     },
     "metadata": {
      "needs_background": "light"
     },
     "output_type": "display_data"
    }
   ],
   "source": [
    "plt.plot(df['Down'], df['Chinook 1+ CWT hatchery'])\n",
    "plt.gcf().autofmt_xdate()\n",
    "plt.show()"
   ]
  },
  {
   "cell_type": "code",
   "execution_count": 76,
   "id": "734ddf2c",
   "metadata": {},
   "outputs": [
    {
     "data": {
      "image/png": "[encoded data removed]",
      "text/plain": [
       "<Figure size 432x288 with 1 Axes>"
      ]
     },
     "metadata": {
      "needs_background": "light"
     },
     "output_type": "display_data"
    }
   ],
   "source": [
    "plt.plot(df['Down'], df['Coho 1+'], linewidth = 3, label = 'total', color = 'black')\n",
    "plt.plot(df['Down'], df['Coho 1+ Hatchery'], linewidth = 3, label  = 'hatchery', color = 'lightseagreen')\n",
    "plt.plot(df['Down'], df['Coho 1+ Wild'], linewidth = 3, label = 'wild', color = 'salmon')\n",
    "\n",
    "plt.legend()\n",
    "plt.gcf().autofmt_xdate()\n",
    "plt.show()"
   ]
  },
  {
   "cell_type": "code",
   "execution_count": null,
   "id": "7d14b359",
   "metadata": {},
   "outputs": [],
   "source": []
  }
 ],
 "metadata": {
  "kernelspec": {
   "display_name": "Python 3 (ipykernel)",
   "language": "python",
   "name": "python3"
  },
  "language_info": {
   "codemirror_mode": {
    "name": "ipython",
    "version": 3
   },
   "file_extension": ".py",
   "mimetype": "text/x-python",
   "name": "python",
   "nbconvert_exporter": "python",
   "pygments_lexer": "ipython3",
   "version": "3.9.7"
  }
 },
 "nbformat": 4,
 "nbformat_minor": 5
}
