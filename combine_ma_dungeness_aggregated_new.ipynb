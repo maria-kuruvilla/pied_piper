{
 "cells": [
  {
   "cell_type": "markdown",
   "id": "67992bd7",
   "metadata": {},
   "source": [
    "### read the combine dungeness new file \n",
    "### calculate the moving average for all species\n",
    "### merge the two dataframes but do not include all columns twice\n",
    "### calculate moving variance for each species"
   ]
  }
 ],
 "metadata": {
  "kernelspec": {
   "display_name": "Python 3 (ipykernel)",
   "language": "python",
   "name": "python3"
  },
  "language_info": {
   "codemirror_mode": {
    "name": "ipython",
    "version": 3
   },
   "file_extension": ".py",
   "mimetype": "text/x-python",
   "name": "python",
   "nbconvert_exporter": "python",
   "pygments_lexer": "ipython3",
   "version": "3.9.7"
  }
 },
 "nbformat": 4,
 "nbformat_minor": 5
}
