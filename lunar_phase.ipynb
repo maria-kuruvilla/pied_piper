{
 "cells": [
  {
   "cell_type": "markdown",
   "metadata": {},
   "source": [
    "### Get lunar phase data "
   ]
  },
  {
   "cell_type": "code",
   "execution_count": 2,
   "metadata": {},
   "outputs": [],
   "source": [
    "#imports\n",
    "\n",
    "import datetime\n",
    "import ephem\n",
    "from typing import List, Tuple\n",
    "\n"
   ]
  },
  {
   "cell_type": "code",
   "execution_count": 3,
   "metadata": {},
   "outputs": [],
   "source": [
    "def get_phase_on_day(year: int, month: int, day: int):\n",
    "  \"\"\"Returns a floating-point number from 0-1. where 0=new, 0.5=full, 1=new\"\"\"\n",
    "  #Ephem stores its date numbers as floating points, which the following uses\n",
    "  #to conveniently extract the percent time between one new moon and the next\n",
    "  #This corresponds (somewhat roughly) to the phase of the moon.\n",
    "\n",
    "  #Use Year, Month, Day as arguments\n",
    "  date = ephem.Date(datetime.date(year,month,day))\n",
    "\n",
    "  nnm = ephem.next_new_moon(date)\n",
    "  pnm = ephem.previous_new_moon(date)\n",
    "    \n",
    "\n",
    "#   lunation = (date-pnm)/(nnm-pnm)\n",
    "\n",
    "\n",
    "  #Note that there is a ephem.Moon().phase() command, but this returns the\n",
    "  #percentage of the moon which is illuminated. This is not really what we want.\n",
    "\n",
    "  return lunation"
   ]
  },
  {
   "cell_type": "code",
   "execution_count": 38,
   "metadata": {},
   "outputs": [
    {
     "data": {
      "text/plain": [
       "0.9681958282773349"
      ]
     },
     "execution_count": 38,
     "metadata": {},
     "output_type": "execute_result"
    }
   ],
   "source": [
    "get_phase_on_day(2005,2,8)"
   ]
  },
  {
   "cell_type": "code",
   "execution_count": 49,
   "metadata": {},
   "outputs": [
    {
     "name": "stdout",
     "output_type": "stream",
     "text": [
      "<ephem.Moon \"Moon\" at 0x7fd34fcaf350>\n"
     ]
    }
   ],
   "source": [
    "moon = ephem.Moon()\n",
    "print(moon)\n",
    "# ephem.Moon().phase()"
   ]
  },
  {
   "cell_type": "code",
   "execution_count": null,
   "metadata": {},
   "outputs": [],
   "source": []
  }
 ],
 "metadata": {
  "kernelspec": {
   "display_name": "Python 3",
   "language": "python",
   "name": "python3"
  },
  "language_info": {
   "codemirror_mode": {
    "name": "ipython",
    "version": 3
   },
   "file_extension": ".py",
   "mimetype": "text/x-python",
   "name": "python",
   "nbconvert_exporter": "python",
   "pygments_lexer": "ipython3",
   "version": "3.8.3"
  }
 },
 "nbformat": 4,
 "nbformat_minor": 4
}
